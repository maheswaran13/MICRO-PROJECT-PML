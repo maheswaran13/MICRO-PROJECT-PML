{
 "cells": [
  {
   "cell_type": "code",
   "execution_count": 1,
   "id": "moderate-secretary",
   "metadata": {
    "execution": {
     "iopub.execute_input": "2021-05-23T08:59:10.641858Z",
     "iopub.status.busy": "2021-05-23T08:59:10.640667Z",
     "iopub.status.idle": "2021-05-23T08:59:12.013374Z",
     "shell.execute_reply": "2021-05-23T08:59:12.012652Z"
    },
    "papermill": {
     "duration": 1.425892,
     "end_time": "2021-05-23T08:59:12.013557",
     "exception": false,
     "start_time": "2021-05-23T08:59:10.587665",
     "status": "completed"
    },
    "tags": []
   },
   "outputs": [],
   "source": [
    "import pandas as pd\n",
    "from pandas import DataFrame\n",
    "import matplotlib.pyplot as plt\n",
    "\n",
    "from sklearn.preprocessing import LabelEncoder\n",
    "from sklearn.model_selection import train_test_split\n",
    "from sklearn.preprocessing import StandardScaler\n",
    "from sklearn.linear_model import LogisticRegression\n",
    "from sklearn.naive_bayes import GaussianNB\n",
    "from sklearn.ensemble import RandomForestClassifier \n",
    "from sklearn.tree import DecisionTreeClassifier\n",
    "from sklearn.linear_model import SGDClassifier\n",
    "from sklearn.neighbors import KNeighborsClassifier\n",
    "from sklearn.svm import SVC\n",
    "\n",
    "import sklearn.metrics as metrics\n",
    "from sklearn.metrics import f1_score\n",
    "from sklearn.metrics import classification_report,confusion_matrix\n",
    "from sklearn.metrics import precision_score\n",
    "from sklearn.metrics import recall_score"
   ]
  },
  {
   "cell_type": "code",
   "execution_count": 3,
   "id": "blessed-auction",
   "metadata": {
    "execution": {
     "iopub.execute_input": "2021-05-23T08:59:12.122341Z",
     "iopub.status.busy": "2021-05-23T08:59:12.121672Z",
     "iopub.status.idle": "2021-05-23T08:59:12.139180Z",
     "shell.execute_reply": "2021-05-23T08:59:12.138589Z"
    },
    "papermill": {
     "duration": 0.074309,
     "end_time": "2021-05-23T08:59:12.139329",
     "exception": false,
     "start_time": "2021-05-23T08:59:12.065020",
     "status": "completed"
    },
    "tags": []
   },
   "outputs": [],
   "source": [
    "data = pd.read_csv('iphone_purchase_records.csv')"
   ]
  },
  {
   "cell_type": "code",
   "execution_count": 4,
   "id": "veterinary-buffer",
   "metadata": {
    "execution": {
     "iopub.execute_input": "2021-05-23T08:59:12.244505Z",
     "iopub.status.busy": "2021-05-23T08:59:12.243877Z",
     "iopub.status.idle": "2021-05-23T08:59:12.272448Z",
     "shell.execute_reply": "2021-05-23T08:59:12.271936Z"
    },
    "papermill": {
     "duration": 0.082425,
     "end_time": "2021-05-23T08:59:12.272589",
     "exception": false,
     "start_time": "2021-05-23T08:59:12.190164",
     "status": "completed"
    },
    "scrolled": true,
    "tags": []
   },
   "outputs": [
    {
     "data": {
      "text/html": [
       "<div>\n",
       "<style scoped>\n",
       "    .dataframe tbody tr th:only-of-type {\n",
       "        vertical-align: middle;\n",
       "    }\n",
       "\n",
       "    .dataframe tbody tr th {\n",
       "        vertical-align: top;\n",
       "    }\n",
       "\n",
       "    .dataframe thead th {\n",
       "        text-align: right;\n",
       "    }\n",
       "</style>\n",
       "<table border=\"1\" class=\"dataframe\">\n",
       "  <thead>\n",
       "    <tr style=\"text-align: right;\">\n",
       "      <th></th>\n",
       "      <th>Gender</th>\n",
       "      <th>Age</th>\n",
       "      <th>Salary</th>\n",
       "      <th>Purchase Iphone</th>\n",
       "    </tr>\n",
       "  </thead>\n",
       "  <tbody>\n",
       "    <tr>\n",
       "      <th>0</th>\n",
       "      <td>Male</td>\n",
       "      <td>19</td>\n",
       "      <td>19000</td>\n",
       "      <td>0</td>\n",
       "    </tr>\n",
       "    <tr>\n",
       "      <th>1</th>\n",
       "      <td>Male</td>\n",
       "      <td>35</td>\n",
       "      <td>20000</td>\n",
       "      <td>0</td>\n",
       "    </tr>\n",
       "    <tr>\n",
       "      <th>2</th>\n",
       "      <td>Female</td>\n",
       "      <td>26</td>\n",
       "      <td>43000</td>\n",
       "      <td>0</td>\n",
       "    </tr>\n",
       "    <tr>\n",
       "      <th>3</th>\n",
       "      <td>Female</td>\n",
       "      <td>27</td>\n",
       "      <td>57000</td>\n",
       "      <td>0</td>\n",
       "    </tr>\n",
       "    <tr>\n",
       "      <th>4</th>\n",
       "      <td>Male</td>\n",
       "      <td>19</td>\n",
       "      <td>76000</td>\n",
       "      <td>0</td>\n",
       "    </tr>\n",
       "  </tbody>\n",
       "</table>\n",
       "</div>"
      ],
      "text/plain": [
       "   Gender  Age  Salary  Purchase Iphone\n",
       "0    Male   19   19000                0\n",
       "1    Male   35   20000                0\n",
       "2  Female   26   43000                0\n",
       "3  Female   27   57000                0\n",
       "4    Male   19   76000                0"
      ]
     },
     "execution_count": 4,
     "metadata": {},
     "output_type": "execute_result"
    }
   ],
   "source": [
    "data.head()"
   ]
  },
  {
   "cell_type": "code",
   "execution_count": 49,
   "id": "e77108e4",
   "metadata": {},
   "outputs": [
    {
     "data": {
      "text/html": [
       "<div>\n",
       "<style scoped>\n",
       "    .dataframe tbody tr th:only-of-type {\n",
       "        vertical-align: middle;\n",
       "    }\n",
       "\n",
       "    .dataframe tbody tr th {\n",
       "        vertical-align: top;\n",
       "    }\n",
       "\n",
       "    .dataframe thead th {\n",
       "        text-align: right;\n",
       "    }\n",
       "</style>\n",
       "<table border=\"1\" class=\"dataframe\">\n",
       "  <thead>\n",
       "    <tr style=\"text-align: right;\">\n",
       "      <th></th>\n",
       "      <th>Gender</th>\n",
       "      <th>Age</th>\n",
       "      <th>Salary</th>\n",
       "      <th>Purchase Iphone</th>\n",
       "    </tr>\n",
       "  </thead>\n",
       "  <tbody>\n",
       "    <tr>\n",
       "      <th>0</th>\n",
       "      <td>Male</td>\n",
       "      <td>19</td>\n",
       "      <td>19000</td>\n",
       "      <td>0</td>\n",
       "    </tr>\n",
       "    <tr>\n",
       "      <th>1</th>\n",
       "      <td>Male</td>\n",
       "      <td>35</td>\n",
       "      <td>20000</td>\n",
       "      <td>0</td>\n",
       "    </tr>\n",
       "    <tr>\n",
       "      <th>2</th>\n",
       "      <td>Female</td>\n",
       "      <td>26</td>\n",
       "      <td>43000</td>\n",
       "      <td>0</td>\n",
       "    </tr>\n",
       "    <tr>\n",
       "      <th>3</th>\n",
       "      <td>Female</td>\n",
       "      <td>27</td>\n",
       "      <td>57000</td>\n",
       "      <td>0</td>\n",
       "    </tr>\n",
       "    <tr>\n",
       "      <th>4</th>\n",
       "      <td>Male</td>\n",
       "      <td>19</td>\n",
       "      <td>76000</td>\n",
       "      <td>0</td>\n",
       "    </tr>\n",
       "    <tr>\n",
       "      <th>...</th>\n",
       "      <td>...</td>\n",
       "      <td>...</td>\n",
       "      <td>...</td>\n",
       "      <td>...</td>\n",
       "    </tr>\n",
       "    <tr>\n",
       "      <th>395</th>\n",
       "      <td>Female</td>\n",
       "      <td>46</td>\n",
       "      <td>41000</td>\n",
       "      <td>1</td>\n",
       "    </tr>\n",
       "    <tr>\n",
       "      <th>396</th>\n",
       "      <td>Male</td>\n",
       "      <td>51</td>\n",
       "      <td>23000</td>\n",
       "      <td>1</td>\n",
       "    </tr>\n",
       "    <tr>\n",
       "      <th>397</th>\n",
       "      <td>Female</td>\n",
       "      <td>50</td>\n",
       "      <td>20000</td>\n",
       "      <td>1</td>\n",
       "    </tr>\n",
       "    <tr>\n",
       "      <th>398</th>\n",
       "      <td>Male</td>\n",
       "      <td>36</td>\n",
       "      <td>33000</td>\n",
       "      <td>0</td>\n",
       "    </tr>\n",
       "    <tr>\n",
       "      <th>399</th>\n",
       "      <td>Female</td>\n",
       "      <td>49</td>\n",
       "      <td>36000</td>\n",
       "      <td>1</td>\n",
       "    </tr>\n",
       "  </tbody>\n",
       "</table>\n",
       "<p>400 rows × 4 columns</p>\n",
       "</div>"
      ],
      "text/plain": [
       "     Gender  Age  Salary  Purchase Iphone\n",
       "0      Male   19   19000                0\n",
       "1      Male   35   20000                0\n",
       "2    Female   26   43000                0\n",
       "3    Female   27   57000                0\n",
       "4      Male   19   76000                0\n",
       "..      ...  ...     ...              ...\n",
       "395  Female   46   41000                1\n",
       "396    Male   51   23000                1\n",
       "397  Female   50   20000                1\n",
       "398    Male   36   33000                0\n",
       "399  Female   49   36000                1\n",
       "\n",
       "[400 rows x 4 columns]"
      ]
     },
     "execution_count": 49,
     "metadata": {},
     "output_type": "execute_result"
    }
   ],
   "source": [
    "data"
   ]
  },
  {
   "cell_type": "code",
   "execution_count": 51,
   "id": "eb2b1fb3",
   "metadata": {},
   "outputs": [
    {
     "name": "stdout",
     "output_type": "stream",
     "text": [
      "<class 'pandas.core.frame.DataFrame'>\n",
      "RangeIndex: 400 entries, 0 to 399\n",
      "Data columns (total 4 columns):\n",
      " #   Column           Non-Null Count  Dtype \n",
      "---  ------           --------------  ----- \n",
      " 0   Gender           400 non-null    object\n",
      " 1   Age              400 non-null    int64 \n",
      " 2   Salary           400 non-null    int64 \n",
      " 3   Purchase Iphone  400 non-null    int64 \n",
      "dtypes: int64(3), object(1)\n",
      "memory usage: 12.6+ KB\n"
     ]
    }
   ],
   "source": [
    "data.info()"
   ]
  },
  {
   "cell_type": "code",
   "execution_count": 53,
   "id": "7a034435",
   "metadata": {},
   "outputs": [
    {
     "data": {
      "text/html": [
       "<div>\n",
       "<style scoped>\n",
       "    .dataframe tbody tr th:only-of-type {\n",
       "        vertical-align: middle;\n",
       "    }\n",
       "\n",
       "    .dataframe tbody tr th {\n",
       "        vertical-align: top;\n",
       "    }\n",
       "\n",
       "    .dataframe thead th {\n",
       "        text-align: right;\n",
       "    }\n",
       "</style>\n",
       "<table border=\"1\" class=\"dataframe\">\n",
       "  <thead>\n",
       "    <tr style=\"text-align: right;\">\n",
       "      <th></th>\n",
       "      <th>Age</th>\n",
       "      <th>Salary</th>\n",
       "      <th>Purchase Iphone</th>\n",
       "    </tr>\n",
       "  </thead>\n",
       "  <tbody>\n",
       "    <tr>\n",
       "      <th>count</th>\n",
       "      <td>400.000000</td>\n",
       "      <td>400.000000</td>\n",
       "      <td>400.000000</td>\n",
       "    </tr>\n",
       "    <tr>\n",
       "      <th>mean</th>\n",
       "      <td>37.655000</td>\n",
       "      <td>69742.500000</td>\n",
       "      <td>0.357500</td>\n",
       "    </tr>\n",
       "    <tr>\n",
       "      <th>std</th>\n",
       "      <td>10.482877</td>\n",
       "      <td>34096.960282</td>\n",
       "      <td>0.479864</td>\n",
       "    </tr>\n",
       "    <tr>\n",
       "      <th>min</th>\n",
       "      <td>18.000000</td>\n",
       "      <td>15000.000000</td>\n",
       "      <td>0.000000</td>\n",
       "    </tr>\n",
       "    <tr>\n",
       "      <th>25%</th>\n",
       "      <td>29.750000</td>\n",
       "      <td>43000.000000</td>\n",
       "      <td>0.000000</td>\n",
       "    </tr>\n",
       "    <tr>\n",
       "      <th>50%</th>\n",
       "      <td>37.000000</td>\n",
       "      <td>70000.000000</td>\n",
       "      <td>0.000000</td>\n",
       "    </tr>\n",
       "    <tr>\n",
       "      <th>75%</th>\n",
       "      <td>46.000000</td>\n",
       "      <td>88000.000000</td>\n",
       "      <td>1.000000</td>\n",
       "    </tr>\n",
       "    <tr>\n",
       "      <th>max</th>\n",
       "      <td>60.000000</td>\n",
       "      <td>150000.000000</td>\n",
       "      <td>1.000000</td>\n",
       "    </tr>\n",
       "  </tbody>\n",
       "</table>\n",
       "</div>"
      ],
      "text/plain": [
       "              Age         Salary  Purchase Iphone\n",
       "count  400.000000     400.000000       400.000000\n",
       "mean    37.655000   69742.500000         0.357500\n",
       "std     10.482877   34096.960282         0.479864\n",
       "min     18.000000   15000.000000         0.000000\n",
       "25%     29.750000   43000.000000         0.000000\n",
       "50%     37.000000   70000.000000         0.000000\n",
       "75%     46.000000   88000.000000         1.000000\n",
       "max     60.000000  150000.000000         1.000000"
      ]
     },
     "execution_count": 53,
     "metadata": {},
     "output_type": "execute_result"
    }
   ],
   "source": [
    "data.describe()"
   ]
  },
  {
   "cell_type": "code",
   "execution_count": 5,
   "id": "framed-delivery",
   "metadata": {
    "execution": {
     "iopub.execute_input": "2021-05-23T08:59:12.379353Z",
     "iopub.status.busy": "2021-05-23T08:59:12.378703Z",
     "iopub.status.idle": "2021-05-23T08:59:12.385101Z",
     "shell.execute_reply": "2021-05-23T08:59:12.385614Z"
    },
    "papermill": {
     "duration": 0.060485,
     "end_time": "2021-05-23T08:59:12.385812",
     "exception": false,
     "start_time": "2021-05-23T08:59:12.325327",
     "status": "completed"
    },
    "tags": []
   },
   "outputs": [],
   "source": [
    "X = data.iloc[:,:-1].values\n",
    "y = data.iloc[:, 3].values"
   ]
  },
  {
   "cell_type": "code",
   "execution_count": 6,
   "id": "permanent-companion",
   "metadata": {
    "execution": {
     "iopub.execute_input": "2021-05-23T08:59:12.633840Z",
     "iopub.status.busy": "2021-05-23T08:59:12.633194Z",
     "iopub.status.idle": "2021-05-23T08:59:12.637389Z",
     "shell.execute_reply": "2021-05-23T08:59:12.636891Z"
    },
    "papermill": {
     "duration": 0.073211,
     "end_time": "2021-05-23T08:59:12.637528",
     "exception": false,
     "start_time": "2021-05-23T08:59:12.564317",
     "status": "completed"
    },
    "tags": []
   },
   "outputs": [],
   "source": [
    "#converting gender to number\n",
    "labelEncoder_gender =  LabelEncoder()\n",
    "X[:,0] = labelEncoder_gender.fit_transform(X[:,0])"
   ]
  },
  {
   "cell_type": "code",
   "execution_count": 7,
   "id": "attempted-clause",
   "metadata": {
    "execution": {
     "iopub.execute_input": "2021-05-23T08:59:12.982144Z",
     "iopub.status.busy": "2021-05-23T08:59:12.981217Z",
     "iopub.status.idle": "2021-05-23T08:59:12.984557Z",
     "shell.execute_reply": "2021-05-23T08:59:12.983916Z"
    },
    "papermill": {
     "duration": 0.062112,
     "end_time": "2021-05-23T08:59:12.984695",
     "exception": false,
     "start_time": "2021-05-23T08:59:12.922583",
     "status": "completed"
    },
    "tags": []
   },
   "outputs": [],
   "source": [
    "X_train, X_test, y_train, y_test = train_test_split(X, y, test_size=0.25, random_state=0)"
   ]
  },
  {
   "cell_type": "markdown",
   "id": "bizarre-referral",
   "metadata": {
    "papermill": {
     "duration": 0.051923,
     "end_time": "2021-05-23T08:59:13.088242",
     "exception": false,
     "start_time": "2021-05-23T08:59:13.036319",
     "status": "completed"
    },
    "tags": []
   },
   "source": [
    "# Decision Tree"
   ]
  },
  {
   "cell_type": "code",
   "execution_count": 8,
   "id": "amber-cargo",
   "metadata": {
    "execution": {
     "iopub.execute_input": "2021-05-23T08:59:13.301861Z",
     "iopub.status.busy": "2021-05-23T08:59:13.300798Z",
     "iopub.status.idle": "2021-05-23T08:59:13.304558Z",
     "shell.execute_reply": "2021-05-23T08:59:13.305352Z"
    },
    "papermill": {
     "duration": 0.061734,
     "end_time": "2021-05-23T08:59:13.305619",
     "exception": false,
     "start_time": "2021-05-23T08:59:13.243885",
     "status": "completed"
    },
    "tags": []
   },
   "outputs": [],
   "source": [
    "dt = DecisionTreeClassifier(random_state=42)"
   ]
  },
  {
   "cell_type": "code",
   "execution_count": 9,
   "id": "adjacent-slope",
   "metadata": {
    "execution": {
     "iopub.execute_input": "2021-05-23T08:59:13.438934Z",
     "iopub.status.busy": "2021-05-23T08:59:13.438243Z",
     "iopub.status.idle": "2021-05-23T08:59:13.448267Z",
     "shell.execute_reply": "2021-05-23T08:59:13.447634Z"
    },
    "papermill": {
     "duration": 0.073484,
     "end_time": "2021-05-23T08:59:13.448425",
     "exception": false,
     "start_time": "2021-05-23T08:59:13.374941",
     "status": "completed"
    },
    "tags": []
   },
   "outputs": [
    {
     "data": {
      "text/plain": [
       "DecisionTreeClassifier(random_state=42)"
      ]
     },
     "execution_count": 9,
     "metadata": {},
     "output_type": "execute_result"
    }
   ],
   "source": [
    "dt.fit(X_train,y_train)"
   ]
  },
  {
   "cell_type": "code",
   "execution_count": 10,
   "id": "brilliant-pontiac",
   "metadata": {
    "execution": {
     "iopub.execute_input": "2021-05-23T08:59:13.559583Z",
     "iopub.status.busy": "2021-05-23T08:59:13.559002Z",
     "iopub.status.idle": "2021-05-23T08:59:13.561450Z",
     "shell.execute_reply": "2021-05-23T08:59:13.562045Z"
    },
    "papermill": {
     "duration": 0.060306,
     "end_time": "2021-05-23T08:59:13.562211",
     "exception": false,
     "start_time": "2021-05-23T08:59:13.501905",
     "status": "completed"
    },
    "tags": []
   },
   "outputs": [],
   "source": [
    "y_pred_dt = dt.predict(X_test)"
   ]
  },
  {
   "cell_type": "code",
   "execution_count": 11,
   "id": "greenhouse-memorial",
   "metadata": {
    "execution": {
     "iopub.execute_input": "2021-05-23T08:59:13.671439Z",
     "iopub.status.busy": "2021-05-23T08:59:13.670813Z",
     "iopub.status.idle": "2021-05-23T08:59:13.675973Z",
     "shell.execute_reply": "2021-05-23T08:59:13.675426Z"
    },
    "papermill": {
     "duration": 0.062387,
     "end_time": "2021-05-23T08:59:13.676122",
     "exception": false,
     "start_time": "2021-05-23T08:59:13.613735",
     "status": "completed"
    },
    "tags": []
   },
   "outputs": [
    {
     "data": {
      "text/plain": [
       "array([0, 0, 0, 0, 0, 0, 0, 1, 0, 0, 0, 0, 0, 0, 0, 1, 0, 0, 1, 0, 0, 0,\n",
       "       0, 1, 0, 1, 0, 0, 0, 0, 0, 0, 1, 0, 0, 0, 0, 0, 0, 1, 0, 0, 0, 0,\n",
       "       1, 0, 0, 1, 0, 1, 1, 0, 0, 1, 1, 1, 0, 0, 1, 0, 0, 1, 0, 1, 0, 1,\n",
       "       0, 0, 0, 1, 1, 0, 0, 1, 0, 0, 0, 0, 1, 1, 1, 1, 0, 0, 1, 0, 1, 1,\n",
       "       1, 0, 0, 1, 0, 0, 0, 1, 0, 1, 1, 1], dtype=int64)"
      ]
     },
     "execution_count": 11,
     "metadata": {},
     "output_type": "execute_result"
    }
   ],
   "source": [
    "y_pred_dt"
   ]
  },
  {
   "cell_type": "code",
   "execution_count": 12,
   "id": "junior-bandwidth",
   "metadata": {
    "execution": {
     "iopub.execute_input": "2021-05-23T08:59:13.892305Z",
     "iopub.status.busy": "2021-05-23T08:59:13.891380Z",
     "iopub.status.idle": "2021-05-23T08:59:13.914055Z",
     "shell.execute_reply": "2021-05-23T08:59:13.913392Z"
    },
    "papermill": {
     "duration": 0.077556,
     "end_time": "2021-05-23T08:59:13.914207",
     "exception": false,
     "start_time": "2021-05-23T08:59:13.836651",
     "status": "completed"
    },
    "tags": []
   },
   "outputs": [
    {
     "name": "stdout",
     "output_type": "stream",
     "text": [
      "F1 score: 0.909543\n",
      "              precision    recall  f1-score   support\n",
      "\n",
      "           0       0.95      0.93      0.94        68\n",
      "           1       0.85      0.91      0.88        32\n",
      "\n",
      "    accuracy                           0.92       100\n",
      "   macro avg       0.90      0.92      0.91       100\n",
      "weighted avg       0.92      0.92      0.92       100\n",
      "\n",
      "[[63  5]\n",
      " [ 3 29]]\n",
      "precision score: 0.903743\n",
      "recall score: 0.916360\n",
      "Accuracy:0.920000\n"
     ]
    }
   ],
   "source": [
    "f1_score_dt = metrics.f1_score(y_test,y_pred_dt,average='macro')\n",
    "print('F1 score: {0:f}'.format (f1_score_dt))\n",
    "print(classification_report(y_test,y_pred_dt))\n",
    "print(confusion_matrix(y_test,y_pred_dt))\n",
    "sdt = precision_score(y_test, y_pred_dt, average='macro')\n",
    "print('precision score: {0:f}'.format (sdt))\n",
    "s_dt = recall_score(y_test,y_pred_dt, average='macro')\n",
    "print('recall score: {0:f}'.format (s_dt))\n",
    "score_dt = metrics.accuracy_score(y_test,dt.predict(X_test))\n",
    "print('Accuracy:{0:f}'.format(score_dt))"
   ]
  },
  {
   "cell_type": "markdown",
   "id": "controlled-brazilian",
   "metadata": {
    "papermill": {
     "duration": 0.052859,
     "end_time": "2021-05-23T08:59:14.020132",
     "exception": false,
     "start_time": "2021-05-23T08:59:13.967273",
     "status": "completed"
    },
    "tags": []
   },
   "source": [
    "# Random Forest"
   ]
  },
  {
   "cell_type": "code",
   "execution_count": 13,
   "id": "completed-vermont",
   "metadata": {
    "execution": {
     "iopub.execute_input": "2021-05-23T08:59:14.241005Z",
     "iopub.status.busy": "2021-05-23T08:59:14.240347Z",
     "iopub.status.idle": "2021-05-23T08:59:14.242652Z",
     "shell.execute_reply": "2021-05-23T08:59:14.243098Z"
    },
    "papermill": {
     "duration": 0.06109,
     "end_time": "2021-05-23T08:59:14.243287",
     "exception": false,
     "start_time": "2021-05-23T08:59:14.182197",
     "status": "completed"
    },
    "tags": []
   },
   "outputs": [],
   "source": [
    "rf = RandomForestClassifier(n_estimators=70, oob_score=True, n_jobs=-1, min_samples_leaf=30)"
   ]
  },
  {
   "cell_type": "code",
   "execution_count": 14,
   "id": "iraqi-horror",
   "metadata": {
    "execution": {
     "iopub.execute_input": "2021-05-23T08:59:14.352579Z",
     "iopub.status.busy": "2021-05-23T08:59:14.351967Z",
     "iopub.status.idle": "2021-05-23T08:59:14.636764Z",
     "shell.execute_reply": "2021-05-23T08:59:14.636191Z"
    },
    "papermill": {
     "duration": 0.340764,
     "end_time": "2021-05-23T08:59:14.636967",
     "exception": false,
     "start_time": "2021-05-23T08:59:14.296203",
     "status": "completed"
    },
    "tags": []
   },
   "outputs": [
    {
     "data": {
      "text/plain": [
       "RandomForestClassifier(min_samples_leaf=30, n_estimators=70, n_jobs=-1,\n",
       "                       oob_score=True)"
      ]
     },
     "execution_count": 14,
     "metadata": {},
     "output_type": "execute_result"
    }
   ],
   "source": [
    "rf.fit(X_train, y_train)"
   ]
  },
  {
   "cell_type": "code",
   "execution_count": 15,
   "id": "outer-thanks",
   "metadata": {
    "execution": {
     "iopub.execute_input": "2021-05-23T08:59:14.750390Z",
     "iopub.status.busy": "2021-05-23T08:59:14.749535Z",
     "iopub.status.idle": "2021-05-23T08:59:14.856896Z",
     "shell.execute_reply": "2021-05-23T08:59:14.856152Z"
    },
    "papermill": {
     "duration": 0.166173,
     "end_time": "2021-05-23T08:59:14.857053",
     "exception": false,
     "start_time": "2021-05-23T08:59:14.690880",
     "status": "completed"
    },
    "tags": []
   },
   "outputs": [],
   "source": [
    "y_pred_rf = rf.predict(X_test)"
   ]
  },
  {
   "cell_type": "code",
   "execution_count": 16,
   "id": "consecutive-hypothesis",
   "metadata": {
    "execution": {
     "iopub.execute_input": "2021-05-23T08:59:14.970431Z",
     "iopub.status.busy": "2021-05-23T08:59:14.969822Z",
     "iopub.status.idle": "2021-05-23T08:59:14.974221Z",
     "shell.execute_reply": "2021-05-23T08:59:14.973718Z"
    },
    "papermill": {
     "duration": 0.062999,
     "end_time": "2021-05-23T08:59:14.974366",
     "exception": false,
     "start_time": "2021-05-23T08:59:14.911367",
     "status": "completed"
    },
    "tags": []
   },
   "outputs": [
    {
     "data": {
      "text/plain": [
       "array([0, 0, 0, 0, 0, 0, 0, 1, 0, 1, 0, 0, 0, 0, 0, 1, 0, 0, 1, 0, 0, 1,\n",
       "       0, 1, 0, 1, 0, 0, 0, 0, 0, 0, 1, 0, 0, 0, 0, 0, 0, 1, 0, 0, 0, 0,\n",
       "       1, 0, 0, 1, 0, 1, 1, 0, 0, 1, 1, 1, 0, 0, 1, 0, 0, 1, 0, 1, 0, 1,\n",
       "       0, 0, 0, 0, 1, 0, 0, 1, 0, 0, 0, 0, 1, 1, 1, 1, 0, 0, 1, 0, 0, 1,\n",
       "       1, 0, 0, 1, 0, 0, 0, 1, 0, 1, 1, 1], dtype=int64)"
      ]
     },
     "execution_count": 16,
     "metadata": {},
     "output_type": "execute_result"
    }
   ],
   "source": [
    "y_pred_rf"
   ]
  },
  {
   "cell_type": "code",
   "execution_count": 17,
   "id": "universal-tobago",
   "metadata": {
    "execution": {
     "iopub.execute_input": "2021-05-23T08:59:15.304839Z",
     "iopub.status.busy": "2021-05-23T08:59:15.304144Z",
     "iopub.status.idle": "2021-05-23T08:59:15.421208Z",
     "shell.execute_reply": "2021-05-23T08:59:15.421825Z"
    },
    "papermill": {
     "duration": 0.178736,
     "end_time": "2021-05-23T08:59:15.421994",
     "exception": false,
     "start_time": "2021-05-23T08:59:15.243258",
     "status": "completed"
    },
    "tags": []
   },
   "outputs": [
    {
     "name": "stdout",
     "output_type": "stream",
     "text": [
      "F1 score: 0.932157\n",
      "              precision    recall  f1-score   support\n",
      "\n",
      "           0       0.97      0.94      0.96        68\n",
      "           1       0.88      0.94      0.91        32\n",
      "\n",
      "    accuracy                           0.94       100\n",
      "   macro avg       0.93      0.94      0.93       100\n",
      "weighted avg       0.94      0.94      0.94       100\n",
      "\n",
      "[[64  4]\n",
      " [ 2 30]]\n",
      "precision score: 0.926025\n",
      "recall score: 0.939338\n",
      "Accuracy:0.940000\n"
     ]
    }
   ],
   "source": [
    "f1_score_rf = metrics.f1_score(y_test,y_pred_rf,average='macro')\n",
    "print('F1 score: {0:f}'.format (f1_score_rf))\n",
    "print(classification_report(y_test,y_pred_rf))\n",
    "print(confusion_matrix(y_test,y_pred_rf))\n",
    "srf = precision_score(y_test, y_pred_rf, average='macro')\n",
    "print('precision score: {0:f}'.format (srf))\n",
    "s_rf = recall_score(y_test,y_pred_rf, average='macro')\n",
    "print('recall score: {0:f}'.format (s_rf))\n",
    "score_rf = metrics.accuracy_score(y_test,rf.predict(X_test))\n",
    "print('Accuracy:{0:f}'.format(score_rf))"
   ]
  },
  {
   "cell_type": "markdown",
   "id": "inclusive-mission",
   "metadata": {
    "papermill": {
     "duration": 0.054548,
     "end_time": "2021-05-23T08:59:15.531914",
     "exception": false,
     "start_time": "2021-05-23T08:59:15.477366",
     "status": "completed"
    },
    "tags": []
   },
   "source": [
    "# Logistic regression"
   ]
  },
  {
   "cell_type": "code",
   "execution_count": 18,
   "id": "concerned-arbitration",
   "metadata": {
    "execution": {
     "iopub.execute_input": "2021-05-23T08:59:15.756870Z",
     "iopub.status.busy": "2021-05-23T08:59:15.756189Z",
     "iopub.status.idle": "2021-05-23T08:59:15.759716Z",
     "shell.execute_reply": "2021-05-23T08:59:15.759083Z"
    },
    "papermill": {
     "duration": 0.065109,
     "end_time": "2021-05-23T08:59:15.759873",
     "exception": false,
     "start_time": "2021-05-23T08:59:15.694764",
     "status": "completed"
    },
    "tags": []
   },
   "outputs": [],
   "source": [
    "#feature scaling\n",
    "sc = StandardScaler()\n",
    "X_train = sc.fit_transform(X_train)\n",
    "X_test = sc.transform(X_test)"
   ]
  },
  {
   "cell_type": "code",
   "execution_count": 19,
   "id": "blond-young",
   "metadata": {
    "execution": {
     "iopub.execute_input": "2021-05-23T08:59:15.987475Z",
     "iopub.status.busy": "2021-05-23T08:59:15.986765Z",
     "iopub.status.idle": "2021-05-23T08:59:15.993799Z",
     "shell.execute_reply": "2021-05-23T08:59:15.993169Z"
    },
    "papermill": {
     "duration": 0.067835,
     "end_time": "2021-05-23T08:59:15.993959",
     "exception": false,
     "start_time": "2021-05-23T08:59:15.926124",
     "status": "completed"
    },
    "tags": []
   },
   "outputs": [
    {
     "data": {
      "text/plain": [
       "LogisticRegression(random_state=0, solver='liblinear')"
      ]
     },
     "execution_count": 19,
     "metadata": {},
     "output_type": "execute_result"
    }
   ],
   "source": [
    "lr = LogisticRegression(random_state=0, solver=\"liblinear\")\n",
    "lr.fit(X_train, y_train)"
   ]
  },
  {
   "cell_type": "code",
   "execution_count": 20,
   "id": "healthy-redhead",
   "metadata": {
    "execution": {
     "iopub.execute_input": "2021-05-23T08:59:16.111673Z",
     "iopub.status.busy": "2021-05-23T08:59:16.111014Z",
     "iopub.status.idle": "2021-05-23T08:59:16.114637Z",
     "shell.execute_reply": "2021-05-23T08:59:16.113986Z"
    },
    "papermill": {
     "duration": 0.065184,
     "end_time": "2021-05-23T08:59:16.114822",
     "exception": false,
     "start_time": "2021-05-23T08:59:16.049638",
     "status": "completed"
    },
    "tags": []
   },
   "outputs": [],
   "source": [
    "y_pred_lr = lr.predict(X_test)"
   ]
  },
  {
   "cell_type": "code",
   "execution_count": 21,
   "id": "representative-emerald",
   "metadata": {
    "execution": {
     "iopub.execute_input": "2021-05-23T08:59:16.234033Z",
     "iopub.status.busy": "2021-05-23T08:59:16.233006Z",
     "iopub.status.idle": "2021-05-23T08:59:16.237392Z",
     "shell.execute_reply": "2021-05-23T08:59:16.237879Z"
    },
    "papermill": {
     "duration": 0.06596,
     "end_time": "2021-05-23T08:59:16.238073",
     "exception": false,
     "start_time": "2021-05-23T08:59:16.172113",
     "status": "completed"
    },
    "tags": []
   },
   "outputs": [
    {
     "data": {
      "text/plain": [
       "array([0, 0, 0, 0, 0, 0, 0, 1, 0, 1, 0, 0, 0, 0, 0, 0, 0, 0, 1, 0, 0, 1,\n",
       "       0, 1, 0, 1, 0, 0, 0, 0, 0, 0, 1, 0, 0, 0, 0, 0, 0, 1, 0, 0, 0, 0,\n",
       "       1, 0, 0, 1, 0, 1, 1, 0, 0, 0, 1, 0, 0, 0, 1, 0, 0, 1, 0, 0, 0, 1,\n",
       "       0, 0, 0, 0, 1, 0, 0, 0, 0, 0, 1, 0, 1, 1, 1, 1, 0, 0, 1, 1, 0, 1,\n",
       "       0, 0, 0, 1, 0, 0, 0, 0, 0, 1, 1, 1], dtype=int64)"
      ]
     },
     "execution_count": 21,
     "metadata": {},
     "output_type": "execute_result"
    }
   ],
   "source": [
    "y_pred_lr"
   ]
  },
  {
   "cell_type": "code",
   "execution_count": 22,
   "id": "indonesian-military",
   "metadata": {
    "execution": {
     "iopub.execute_input": "2021-05-23T08:59:16.585273Z",
     "iopub.status.busy": "2021-05-23T08:59:16.582185Z",
     "iopub.status.idle": "2021-05-23T08:59:16.598024Z",
     "shell.execute_reply": "2021-05-23T08:59:16.598484Z"
    },
    "papermill": {
     "duration": 0.079371,
     "end_time": "2021-05-23T08:59:16.598676",
     "exception": false,
     "start_time": "2021-05-23T08:59:16.519305",
     "status": "completed"
    },
    "tags": []
   },
   "outputs": [
    {
     "name": "stdout",
     "output_type": "stream",
     "text": [
      "F1 score: 0.893855\n",
      "              precision    recall  f1-score   support\n",
      "\n",
      "           0       0.92      0.96      0.94        68\n",
      "           1       0.90      0.81      0.85        32\n",
      "\n",
      "    accuracy                           0.91       100\n",
      "   macro avg       0.91      0.88      0.89       100\n",
      "weighted avg       0.91      0.91      0.91       100\n",
      "\n",
      "[[65  3]\n",
      " [ 6 26]]\n",
      "precision score: 0.906022\n",
      "recall score: 0.884191\n",
      "Accuracy:0.910000\n"
     ]
    }
   ],
   "source": [
    "f1_score_lr = metrics.f1_score(y_test,y_pred_lr,average='macro')\n",
    "print('F1 score: {0:f}'.format (f1_score_lr))\n",
    "print(classification_report(y_test,y_pred_lr))\n",
    "print(confusion_matrix(y_test,y_pred_lr))\n",
    "slr = precision_score(y_test, y_pred_lr, average='macro')\n",
    "print('precision score: {0:f}'.format (slr))\n",
    "s_lr = recall_score(y_test,y_pred_lr, average='macro')\n",
    "print('recall score: {0:f}'.format (s_lr))\n",
    "score_lr = metrics.accuracy_score(y_test,lr.predict(X_test))\n",
    "print('Accuracy:{0:f}'.format(score_lr))"
   ]
  },
  {
   "cell_type": "markdown",
   "id": "quick-whale",
   "metadata": {
    "papermill": {
     "duration": 0.055977,
     "end_time": "2021-05-23T08:59:16.711040",
     "exception": false,
     "start_time": "2021-05-23T08:59:16.655063",
     "status": "completed"
    },
    "tags": []
   },
   "source": [
    "# Naive Bayes"
   ]
  },
  {
   "cell_type": "code",
   "execution_count": 23,
   "id": "surface-highland",
   "metadata": {
    "execution": {
     "iopub.execute_input": "2021-05-23T08:59:16.831185Z",
     "iopub.status.busy": "2021-05-23T08:59:16.830530Z",
     "iopub.status.idle": "2021-05-23T08:59:16.833550Z",
     "shell.execute_reply": "2021-05-23T08:59:16.834148Z"
    },
    "papermill": {
     "duration": 0.0669,
     "end_time": "2021-05-23T08:59:16.834315",
     "exception": false,
     "start_time": "2021-05-23T08:59:16.767415",
     "status": "completed"
    },
    "tags": []
   },
   "outputs": [
    {
     "data": {
      "text/plain": [
       "GaussianNB()"
      ]
     },
     "execution_count": 23,
     "metadata": {},
     "output_type": "execute_result"
    }
   ],
   "source": [
    "nb = GaussianNB()\n",
    "nb.fit(X_train, y_train)"
   ]
  },
  {
   "cell_type": "code",
   "execution_count": 24,
   "id": "veterinary-cyprus",
   "metadata": {
    "execution": {
     "iopub.execute_input": "2021-05-23T08:59:16.952815Z",
     "iopub.status.busy": "2021-05-23T08:59:16.952175Z",
     "iopub.status.idle": "2021-05-23T08:59:16.956407Z",
     "shell.execute_reply": "2021-05-23T08:59:16.957009Z"
    },
    "papermill": {
     "duration": 0.064527,
     "end_time": "2021-05-23T08:59:16.957188",
     "exception": false,
     "start_time": "2021-05-23T08:59:16.892661",
     "status": "completed"
    },
    "tags": []
   },
   "outputs": [],
   "source": [
    "y_pred_nb = nb.predict(X_test)"
   ]
  },
  {
   "cell_type": "code",
   "execution_count": 25,
   "id": "reasonable-programming",
   "metadata": {
    "execution": {
     "iopub.execute_input": "2021-05-23T08:59:17.075208Z",
     "iopub.status.busy": "2021-05-23T08:59:17.074563Z",
     "iopub.status.idle": "2021-05-23T08:59:17.081355Z",
     "shell.execute_reply": "2021-05-23T08:59:17.080679Z"
    },
    "papermill": {
     "duration": 0.066724,
     "end_time": "2021-05-23T08:59:17.081540",
     "exception": false,
     "start_time": "2021-05-23T08:59:17.014816",
     "status": "completed"
    },
    "tags": []
   },
   "outputs": [
    {
     "data": {
      "text/plain": [
       "array([0, 0, 0, 0, 0, 0, 0, 1, 0, 0, 0, 0, 0, 0, 0, 1, 0, 0, 1, 0, 0, 1,\n",
       "       0, 1, 0, 1, 0, 0, 0, 0, 0, 0, 1, 0, 0, 0, 0, 0, 0, 1, 0, 0, 0, 0,\n",
       "       1, 0, 0, 1, 0, 1, 1, 0, 0, 0, 1, 0, 0, 0, 1, 0, 0, 1, 0, 0, 0, 1,\n",
       "       0, 0, 0, 0, 1, 0, 0, 0, 0, 0, 0, 0, 1, 1, 1, 1, 0, 0, 1, 0, 0, 1,\n",
       "       0, 0, 0, 1, 0, 0, 0, 0, 0, 1, 1, 1], dtype=int64)"
      ]
     },
     "execution_count": 25,
     "metadata": {},
     "output_type": "execute_result"
    }
   ],
   "source": [
    "y_pred_nb"
   ]
  },
  {
   "cell_type": "code",
   "execution_count": 26,
   "id": "digital-overhead",
   "metadata": {
    "execution": {
     "iopub.execute_input": "2021-05-23T08:59:17.434080Z",
     "iopub.status.busy": "2021-05-23T08:59:17.433170Z",
     "iopub.status.idle": "2021-05-23T08:59:17.451398Z",
     "shell.execute_reply": "2021-05-23T08:59:17.450511Z"
    },
    "papermill": {
     "duration": 0.082885,
     "end_time": "2021-05-23T08:59:17.451619",
     "exception": false,
     "start_time": "2021-05-23T08:59:17.368734",
     "status": "completed"
    },
    "tags": []
   },
   "outputs": [
    {
     "name": "stdout",
     "output_type": "stream",
     "text": [
      "F1 score: 0.891814\n",
      "              precision    recall  f1-score   support\n",
      "\n",
      "           0       0.90      0.97      0.94        68\n",
      "           1       0.93      0.78      0.85        32\n",
      "\n",
      "    accuracy                           0.91       100\n",
      "   macro avg       0.92      0.88      0.89       100\n",
      "weighted avg       0.91      0.91      0.91       100\n",
      "\n",
      "[[66  2]\n",
      " [ 7 25]]\n",
      "precision score: 0.915018\n",
      "recall score: 0.875919\n",
      "Accuracy:0.910000\n"
     ]
    }
   ],
   "source": [
    "f1_score_nb = metrics.f1_score(y_test,y_pred_nb,average='macro')\n",
    "print('F1 score: {0:f}'.format (f1_score_nb))\n",
    "print(classification_report(y_test,y_pred_nb))\n",
    "print(confusion_matrix(y_test,y_pred_nb))\n",
    "snb = precision_score(y_test, y_pred_nb, average='macro')\n",
    "print('precision score: {0:f}'.format (snb))\n",
    "s_nb = recall_score(y_test,y_pred_nb, average='macro')\n",
    "print('recall score: {0:f}'.format (s_nb))\n",
    "score_nb = metrics.accuracy_score(y_test,nb.predict(X_test))\n",
    "print('Accuracy:{0:f}'.format(score_nb))"
   ]
  },
  {
   "cell_type": "markdown",
   "id": "convinced-updating",
   "metadata": {
    "papermill": {
     "duration": 0.057153,
     "end_time": "2021-05-23T08:59:17.567134",
     "exception": false,
     "start_time": "2021-05-23T08:59:17.509981",
     "status": "completed"
    },
    "tags": []
   },
   "source": [
    "# Stochastic Gradient Descent"
   ]
  },
  {
   "cell_type": "code",
   "execution_count": 27,
   "id": "extended-teens",
   "metadata": {
    "execution": {
     "iopub.execute_input": "2021-05-23T08:59:17.802966Z",
     "iopub.status.busy": "2021-05-23T08:59:17.802306Z",
     "iopub.status.idle": "2021-05-23T08:59:17.806043Z",
     "shell.execute_reply": "2021-05-23T08:59:17.805379Z"
    },
    "papermill": {
     "duration": 0.066123,
     "end_time": "2021-05-23T08:59:17.806194",
     "exception": false,
     "start_time": "2021-05-23T08:59:17.740071",
     "status": "completed"
    },
    "tags": []
   },
   "outputs": [],
   "source": [
    "sgd = SGDClassifier(loss='modified_huber', shuffle=True, random_state=42)"
   ]
  },
  {
   "cell_type": "code",
   "execution_count": 28,
   "id": "extended-bidding",
   "metadata": {
    "execution": {
     "iopub.execute_input": "2021-05-23T08:59:17.930505Z",
     "iopub.status.busy": "2021-05-23T08:59:17.929817Z",
     "iopub.status.idle": "2021-05-23T08:59:17.937170Z",
     "shell.execute_reply": "2021-05-23T08:59:17.936645Z"
    },
    "papermill": {
     "duration": 0.072579,
     "end_time": "2021-05-23T08:59:17.937332",
     "exception": false,
     "start_time": "2021-05-23T08:59:17.864753",
     "status": "completed"
    },
    "tags": []
   },
   "outputs": [
    {
     "data": {
      "text/plain": [
       "SGDClassifier(loss='modified_huber', random_state=42)"
      ]
     },
     "execution_count": 28,
     "metadata": {},
     "output_type": "execute_result"
    }
   ],
   "source": [
    "sgd.fit(X_train,y_train)"
   ]
  },
  {
   "cell_type": "code",
   "execution_count": 29,
   "id": "graduate-fountain",
   "metadata": {
    "execution": {
     "iopub.execute_input": "2021-05-23T08:59:18.059482Z",
     "iopub.status.busy": "2021-05-23T08:59:18.058877Z",
     "iopub.status.idle": "2021-05-23T08:59:18.062454Z",
     "shell.execute_reply": "2021-05-23T08:59:18.061930Z"
    },
    "papermill": {
     "duration": 0.067143,
     "end_time": "2021-05-23T08:59:18.062597",
     "exception": false,
     "start_time": "2021-05-23T08:59:17.995454",
     "status": "completed"
    },
    "tags": []
   },
   "outputs": [],
   "source": [
    "y_pred_sgd = sgd.predict(X_test)"
   ]
  },
  {
   "cell_type": "code",
   "execution_count": 30,
   "id": "purple-indonesia",
   "metadata": {
    "execution": {
     "iopub.execute_input": "2021-05-23T08:59:18.185968Z",
     "iopub.status.busy": "2021-05-23T08:59:18.185013Z",
     "iopub.status.idle": "2021-05-23T08:59:18.189467Z",
     "shell.execute_reply": "2021-05-23T08:59:18.188986Z"
    },
    "papermill": {
     "duration": 0.068273,
     "end_time": "2021-05-23T08:59:18.189629",
     "exception": false,
     "start_time": "2021-05-23T08:59:18.121356",
     "status": "completed"
    },
    "tags": []
   },
   "outputs": [
    {
     "data": {
      "text/plain": [
       "array([0, 0, 0, 0, 0, 0, 0, 1, 0, 0, 0, 0, 0, 0, 0, 1, 0, 0, 1, 0, 0, 1,\n",
       "       0, 1, 0, 1, 0, 0, 0, 0, 0, 0, 1, 0, 0, 0, 0, 0, 0, 1, 0, 0, 0, 0,\n",
       "       1, 0, 1, 1, 0, 1, 1, 0, 0, 1, 1, 0, 0, 0, 0, 0, 0, 1, 0, 0, 0, 1,\n",
       "       0, 0, 0, 1, 1, 0, 0, 0, 0, 0, 1, 0, 1, 1, 1, 1, 0, 0, 1, 1, 1, 1,\n",
       "       0, 0, 0, 1, 0, 0, 0, 0, 0, 0, 1, 1], dtype=int64)"
      ]
     },
     "execution_count": 30,
     "metadata": {},
     "output_type": "execute_result"
    }
   ],
   "source": [
    "y_pred_sgd"
   ]
  },
  {
   "cell_type": "code",
   "execution_count": 31,
   "id": "personal-average",
   "metadata": {
    "execution": {
     "iopub.execute_input": "2021-05-23T08:59:18.548394Z",
     "iopub.status.busy": "2021-05-23T08:59:18.547583Z",
     "iopub.status.idle": "2021-05-23T08:59:18.563656Z",
     "shell.execute_reply": "2021-05-23T08:59:18.563161Z"
    },
    "papermill": {
     "duration": 0.082433,
     "end_time": "2021-05-23T08:59:18.563824",
     "exception": false,
     "start_time": "2021-05-23T08:59:18.481391",
     "status": "completed"
    },
    "tags": []
   },
   "outputs": [
    {
     "name": "stdout",
     "output_type": "stream",
     "text": [
      "F1 score: 0.826208\n",
      "              precision    recall  f1-score   support\n",
      "\n",
      "           0       0.88      0.90      0.89        68\n",
      "           1       0.77      0.75      0.76        32\n",
      "\n",
      "    accuracy                           0.85       100\n",
      "   macro avg       0.83      0.82      0.83       100\n",
      "weighted avg       0.85      0.85      0.85       100\n",
      "\n",
      "[[61  7]\n",
      " [ 8 24]]\n",
      "precision score: 0.829126\n",
      "recall score: 0.823529\n",
      "Accuracy:0.850000\n"
     ]
    }
   ],
   "source": [
    "f1_score_sgd = metrics.f1_score(y_test,y_pred_sgd,average='macro')\n",
    "print('F1 score: {0:f}'.format (f1_score_sgd))\n",
    "print(classification_report(y_test,y_pred_sgd))\n",
    "print(confusion_matrix(y_test,y_pred_sgd))\n",
    "ssgd = precision_score(y_test, y_pred_sgd, average='macro')\n",
    "print('precision score: {0:f}'.format (ssgd))\n",
    "s_sgd = recall_score(y_test,y_pred_sgd, average='macro')\n",
    "print('recall score: {0:f}'.format (s_sgd))\n",
    "score_sgd = metrics.accuracy_score(y_test,sgd.predict(X_test))\n",
    "print('Accuracy:{0:f}'.format(score_sgd))"
   ]
  },
  {
   "cell_type": "markdown",
   "id": "christian-times",
   "metadata": {
    "papermill": {
     "duration": 0.058682,
     "end_time": "2021-05-23T08:59:18.681266",
     "exception": false,
     "start_time": "2021-05-23T08:59:18.622584",
     "status": "completed"
    },
    "tags": []
   },
   "source": [
    "# K-Nearest Neighbours"
   ]
  },
  {
   "cell_type": "code",
   "execution_count": 32,
   "id": "rough-nudist",
   "metadata": {
    "execution": {
     "iopub.execute_input": "2021-05-23T08:59:18.804812Z",
     "iopub.status.busy": "2021-05-23T08:59:18.804171Z",
     "iopub.status.idle": "2021-05-23T08:59:18.807622Z",
     "shell.execute_reply": "2021-05-23T08:59:18.806984Z"
    },
    "papermill": {
     "duration": 0.067246,
     "end_time": "2021-05-23T08:59:18.807759",
     "exception": false,
     "start_time": "2021-05-23T08:59:18.740513",
     "status": "completed"
    },
    "tags": []
   },
   "outputs": [],
   "source": [
    "knn = KNeighborsClassifier(n_neighbors=15)"
   ]
  },
  {
   "cell_type": "code",
   "execution_count": 33,
   "id": "governmental-visibility",
   "metadata": {
    "execution": {
     "iopub.execute_input": "2021-05-23T08:59:18.934466Z",
     "iopub.status.busy": "2021-05-23T08:59:18.932760Z",
     "iopub.status.idle": "2021-05-23T08:59:18.939627Z",
     "shell.execute_reply": "2021-05-23T08:59:18.939119Z"
    },
    "papermill": {
     "duration": 0.070972,
     "end_time": "2021-05-23T08:59:18.939783",
     "exception": false,
     "start_time": "2021-05-23T08:59:18.868811",
     "status": "completed"
    },
    "tags": []
   },
   "outputs": [
    {
     "data": {
      "text/plain": [
       "KNeighborsClassifier(n_neighbors=15)"
      ]
     },
     "execution_count": 33,
     "metadata": {},
     "output_type": "execute_result"
    }
   ],
   "source": [
    "knn.fit(X_train,y_train)"
   ]
  },
  {
   "cell_type": "code",
   "execution_count": 34,
   "id": "coated-minnesota",
   "metadata": {
    "execution": {
     "iopub.execute_input": "2021-05-23T08:59:19.068433Z",
     "iopub.status.busy": "2021-05-23T08:59:19.067372Z",
     "iopub.status.idle": "2021-05-23T08:59:19.076065Z",
     "shell.execute_reply": "2021-05-23T08:59:19.075501Z"
    },
    "papermill": {
     "duration": 0.076197,
     "end_time": "2021-05-23T08:59:19.076231",
     "exception": false,
     "start_time": "2021-05-23T08:59:19.000034",
     "status": "completed"
    },
    "tags": []
   },
   "outputs": [],
   "source": [
    "y_pred_knn = knn.predict(X_test)"
   ]
  },
  {
   "cell_type": "code",
   "execution_count": 35,
   "id": "urban-antibody",
   "metadata": {
    "execution": {
     "iopub.execute_input": "2021-05-23T08:59:19.204223Z",
     "iopub.status.busy": "2021-05-23T08:59:19.203295Z",
     "iopub.status.idle": "2021-05-23T08:59:19.208759Z",
     "shell.execute_reply": "2021-05-23T08:59:19.208265Z"
    },
    "papermill": {
     "duration": 0.071344,
     "end_time": "2021-05-23T08:59:19.208931",
     "exception": false,
     "start_time": "2021-05-23T08:59:19.137587",
     "status": "completed"
    },
    "tags": []
   },
   "outputs": [
    {
     "data": {
      "text/plain": [
       "array([0, 0, 0, 0, 0, 0, 0, 1, 0, 1, 0, 0, 0, 0, 0, 1, 0, 0, 1, 0, 0, 1,\n",
       "       0, 1, 0, 1, 0, 0, 0, 0, 0, 0, 1, 0, 0, 0, 0, 0, 0, 1, 0, 0, 0, 0,\n",
       "       1, 0, 0, 1, 0, 1, 1, 0, 0, 1, 1, 1, 0, 0, 1, 0, 0, 1, 0, 1, 0, 1,\n",
       "       0, 0, 0, 0, 1, 0, 0, 1, 0, 0, 0, 0, 1, 1, 1, 1, 0, 0, 1, 0, 0, 1,\n",
       "       1, 0, 0, 1, 0, 0, 0, 0, 0, 1, 1, 1], dtype=int64)"
      ]
     },
     "execution_count": 35,
     "metadata": {},
     "output_type": "execute_result"
    }
   ],
   "source": [
    "y_pred_knn"
   ]
  },
  {
   "cell_type": "code",
   "execution_count": 36,
   "id": "ongoing-solomon",
   "metadata": {
    "execution": {
     "iopub.execute_input": "2021-05-23T08:59:19.578496Z",
     "iopub.status.busy": "2021-05-23T08:59:19.577636Z",
     "iopub.status.idle": "2021-05-23T08:59:19.598218Z",
     "shell.execute_reply": "2021-05-23T08:59:19.597708Z"
    },
    "papermill": {
     "duration": 0.088275,
     "end_time": "2021-05-23T08:59:19.598356",
     "exception": false,
     "start_time": "2021-05-23T08:59:19.510081",
     "status": "completed"
    },
    "tags": []
   },
   "outputs": [
    {
     "name": "stdout",
     "output_type": "stream",
     "text": [
      "F1 score: 0.920228\n",
      "              precision    recall  f1-score   support\n",
      "\n",
      "           0       0.96      0.94      0.95        68\n",
      "           1       0.88      0.91      0.89        32\n",
      "\n",
      "    accuracy                           0.93       100\n",
      "   macro avg       0.92      0.92      0.92       100\n",
      "weighted avg       0.93      0.93      0.93       100\n",
      "\n",
      "[[64  4]\n",
      " [ 3 29]]\n",
      "precision score: 0.917006\n",
      "recall score: 0.923713\n",
      "Accuracy:0.930000\n"
     ]
    }
   ],
   "source": [
    "f1_score_knn = metrics.f1_score(y_test,y_pred_knn,average='macro')\n",
    "print('F1 score: {0:f}'.format (f1_score_knn))\n",
    "print(classification_report(y_test,y_pred_knn))\n",
    "print(confusion_matrix(y_test,y_pred_knn))\n",
    "sknn = precision_score(y_test, y_pred_knn, average='macro')\n",
    "print('precision score: {0:f}'.format (sknn))\n",
    "s_knn = recall_score(y_test,y_pred_knn, average='macro')\n",
    "print('recall score: {0:f}'.format (s_knn))\n",
    "score_knn = metrics.accuracy_score(y_test,knn.predict(X_test))\n",
    "print('Accuracy:{0:f}'.format(score_knn))"
   ]
  },
  {
   "cell_type": "markdown",
   "id": "peripheral-language",
   "metadata": {
    "papermill": {
     "duration": 0.060436,
     "end_time": "2021-05-23T08:59:19.719329",
     "exception": false,
     "start_time": "2021-05-23T08:59:19.658893",
     "status": "completed"
    },
    "tags": []
   },
   "source": [
    "# Support Vector Machine"
   ]
  },
  {
   "cell_type": "code",
   "execution_count": 37,
   "id": "arctic-tennessee",
   "metadata": {
    "execution": {
     "iopub.execute_input": "2021-05-23T08:59:19.846325Z",
     "iopub.status.busy": "2021-05-23T08:59:19.845617Z",
     "iopub.status.idle": "2021-05-23T08:59:19.849533Z",
     "shell.execute_reply": "2021-05-23T08:59:19.848892Z"
    },
    "papermill": {
     "duration": 0.069626,
     "end_time": "2021-05-23T08:59:19.849673",
     "exception": false,
     "start_time": "2021-05-23T08:59:19.780047",
     "status": "completed"
    },
    "tags": []
   },
   "outputs": [],
   "source": [
    "svm = SVC(kernel='linear', C=0.025, random_state=42)"
   ]
  },
  {
   "cell_type": "code",
   "execution_count": 38,
   "id": "tamil-proposal",
   "metadata": {
    "execution": {
     "iopub.execute_input": "2021-05-23T08:59:19.977829Z",
     "iopub.status.busy": "2021-05-23T08:59:19.977195Z",
     "iopub.status.idle": "2021-05-23T08:59:19.985097Z",
     "shell.execute_reply": "2021-05-23T08:59:19.985534Z"
    },
    "papermill": {
     "duration": 0.075085,
     "end_time": "2021-05-23T08:59:19.985716",
     "exception": false,
     "start_time": "2021-05-23T08:59:19.910631",
     "status": "completed"
    },
    "tags": []
   },
   "outputs": [
    {
     "data": {
      "text/plain": [
       "SVC(C=0.025, kernel='linear', random_state=42)"
      ]
     },
     "execution_count": 38,
     "metadata": {},
     "output_type": "execute_result"
    }
   ],
   "source": [
    "svm.fit(X_train,y_train)"
   ]
  },
  {
   "cell_type": "code",
   "execution_count": 39,
   "id": "greatest-sally",
   "metadata": {
    "execution": {
     "iopub.execute_input": "2021-05-23T08:59:20.112974Z",
     "iopub.status.busy": "2021-05-23T08:59:20.111998Z",
     "iopub.status.idle": "2021-05-23T08:59:20.116986Z",
     "shell.execute_reply": "2021-05-23T08:59:20.117516Z"
    },
    "papermill": {
     "duration": 0.070141,
     "end_time": "2021-05-23T08:59:20.117677",
     "exception": false,
     "start_time": "2021-05-23T08:59:20.047536",
     "status": "completed"
    },
    "tags": []
   },
   "outputs": [],
   "source": [
    "y_pred_svm = svm.predict(X_test)"
   ]
  },
  {
   "cell_type": "code",
   "execution_count": 40,
   "id": "opposite-terry",
   "metadata": {
    "execution": {
     "iopub.execute_input": "2021-05-23T08:59:20.245344Z",
     "iopub.status.busy": "2021-05-23T08:59:20.244426Z",
     "iopub.status.idle": "2021-05-23T08:59:20.251600Z",
     "shell.execute_reply": "2021-05-23T08:59:20.251036Z"
    },
    "papermill": {
     "duration": 0.072065,
     "end_time": "2021-05-23T08:59:20.251744",
     "exception": false,
     "start_time": "2021-05-23T08:59:20.179679",
     "status": "completed"
    },
    "tags": []
   },
   "outputs": [
    {
     "data": {
      "text/plain": [
       "array([0, 0, 0, 0, 0, 0, 0, 1, 0, 0, 0, 0, 0, 0, 0, 0, 0, 0, 1, 0, 0, 1,\n",
       "       0, 1, 0, 1, 0, 0, 0, 0, 0, 0, 1, 0, 0, 0, 0, 0, 0, 0, 0, 0, 0, 0,\n",
       "       1, 0, 0, 1, 0, 1, 1, 0, 0, 0, 1, 0, 0, 0, 0, 0, 0, 1, 0, 0, 0, 1,\n",
       "       0, 0, 0, 0, 1, 0, 0, 0, 0, 0, 0, 0, 1, 1, 1, 1, 0, 0, 1, 0, 0, 1,\n",
       "       0, 0, 0, 1, 0, 0, 0, 0, 0, 0, 1, 1], dtype=int64)"
      ]
     },
     "execution_count": 40,
     "metadata": {},
     "output_type": "execute_result"
    }
   ],
   "source": [
    "y_pred_svm"
   ]
  },
  {
   "cell_type": "code",
   "execution_count": 41,
   "id": "medieval-cisco",
   "metadata": {
    "execution": {
     "iopub.execute_input": "2021-05-23T08:59:20.626590Z",
     "iopub.status.busy": "2021-05-23T08:59:20.625658Z",
     "iopub.status.idle": "2021-05-23T08:59:20.643739Z",
     "shell.execute_reply": "2021-05-23T08:59:20.644211Z"
    },
    "papermill": {
     "duration": 0.083388,
     "end_time": "2021-05-23T08:59:20.644385",
     "exception": false,
     "start_time": "2021-05-23T08:59:20.560997",
     "status": "completed"
    },
    "tags": []
   },
   "outputs": [
    {
     "name": "stdout",
     "output_type": "stream",
     "text": [
      "F1 score: 0.862069\n",
      "              precision    recall  f1-score   support\n",
      "\n",
      "           0       0.87      0.99      0.92        68\n",
      "           1       0.96      0.69      0.80        32\n",
      "\n",
      "    accuracy                           0.89       100\n",
      "   macro avg       0.91      0.84      0.86       100\n",
      "weighted avg       0.90      0.89      0.88       100\n",
      "\n",
      "[[67  1]\n",
      " [10 22]]\n",
      "precision score: 0.913326\n",
      "recall score: 0.836397\n",
      "Accuracy:0.890000\n"
     ]
    }
   ],
   "source": [
    "f1_score_svm = metrics.f1_score(y_test,y_pred_svm,average='macro')\n",
    "print('F1 score: {0:f}'.format (f1_score_svm))\n",
    "print(classification_report(y_test,y_pred_svm))\n",
    "print(confusion_matrix(y_test,y_pred_svm))\n",
    "ssvm = precision_score(y_test, y_pred_svm, average='macro')\n",
    "print('precision score: {0:f}'.format (ssvm))\n",
    "s_svm = recall_score(y_test,y_pred_svm, average='macro')\n",
    "print('recall score: {0:f}'.format (s_svm))\n",
    "score_svm = metrics.accuracy_score(y_test,svm.predict(X_test))\n",
    "print('Accuracy:{0:f}'.format(score_svm))"
   ]
  },
  {
   "cell_type": "markdown",
   "id": "saved-lindsay",
   "metadata": {
    "papermill": {
     "duration": 0.061993,
     "end_time": "2021-05-23T08:59:20.768707",
     "exception": false,
     "start_time": "2021-05-23T08:59:20.706714",
     "status": "completed"
    },
    "tags": []
   },
   "source": [
    "\n",
    "# Performance Matrics Evaluation"
   ]
  },
  {
   "cell_type": "code",
   "execution_count": 42,
   "id": "german-authority",
   "metadata": {
    "execution": {
     "iopub.execute_input": "2021-05-23T08:59:21.035056Z",
     "iopub.status.busy": "2021-05-23T08:59:21.028819Z",
     "iopub.status.idle": "2021-05-23T08:59:21.203104Z",
     "shell.execute_reply": "2021-05-23T08:59:21.202550Z"
    },
    "papermill": {
     "duration": 0.245231,
     "end_time": "2021-05-23T08:59:21.203242",
     "exception": false,
     "start_time": "2021-05-23T08:59:20.958011",
     "status": "completed"
    },
    "tags": []
   },
   "outputs": [
    {
     "data": {
      "image/png": "[encoded data removed]",
      "text/plain": [
       "<Figure size 720x432 with 1 Axes>"
      ]
     },
     "metadata": {
      "needs_background": "light"
     },
     "output_type": "display_data"
    }
   ],
   "source": [
    "algo = ['RF','DT','LR','NB','SGD','KNN','SVM']\n",
    "score = [score_rf, score_dt, score_lr, score_nb, score_sgd, score_knn, score_svm]\n",
    "c = ['Red','Blue','Green', 'Brown', 'Black', 'Purple', 'Olive']\n",
    "plt.figure(figsize=(10,6))\n",
    "plt.bar(algo,score,width=0.5, color=c),\n",
    "plt.title('Evaluating accuracies')\n",
    "plt.ylabel('Accuracy score')\n",
    "plt.ylim(0,1)\n",
    "plt.show()"
   ]
  },
  {
   "cell_type": "code",
   "execution_count": 43,
   "id": "apart-hepatitis",
   "metadata": {
    "execution": {
     "iopub.execute_input": "2021-05-23T08:59:21.491518Z",
     "iopub.status.busy": "2021-05-23T08:59:21.482993Z",
     "iopub.status.idle": "2021-05-23T08:59:21.608845Z",
     "shell.execute_reply": "2021-05-23T08:59:21.608189Z"
    },
    "papermill": {
     "duration": 0.211379,
     "end_time": "2021-05-23T08:59:21.608984",
     "exception": false,
     "start_time": "2021-05-23T08:59:21.397605",
     "status": "completed"
    },
    "tags": []
   },
   "outputs": [
    {
     "data": {
      "image/png": "[encoded data removed]",
      "text/plain": [
       "<Figure size 720x432 with 1 Axes>"
      ]
     },
     "metadata": {
      "needs_background": "light"
     },
     "output_type": "display_data"
    }
   ],
   "source": [
    "algo = ['RF','DT','LR','NB','SGD','KNN','SVM']\n",
    "score = [f1_score_rf, f1_score_dt, f1_score_lr, f1_score_nb, f1_score_sgd, f1_score_knn, f1_score_svm]\n",
    "c = ['Red','Blue','Green', 'Brown', 'Black', 'Purple', 'Olive']\n",
    "plt.figure(figsize=(10,6))\n",
    "plt.bar(algo,score,width=0.5, color=c)\n",
    "plt.title('Evaluating F1 score')\n",
    "plt.ylabel('F1 score')\n",
    "plt.ylim(0,1)\n",
    "plt.show()"
   ]
  },
  {
   "cell_type": "markdown",
   "id": "standing-berry",
   "metadata": {
    "papermill": {
     "duration": 0.064932,
     "end_time": "2021-05-23T08:59:21.738063",
     "exception": false,
     "start_time": "2021-05-23T08:59:21.673131",
     "status": "completed"
    },
    "tags": []
   },
   "source": [
    "Coparing precision score"
   ]
  },
  {
   "cell_type": "code",
   "execution_count": 44,
   "id": "chinese-atlanta",
   "metadata": {
    "execution": {
     "iopub.execute_input": "2021-05-23T08:59:21.889910Z",
     "iopub.status.busy": "2021-05-23T08:59:21.883022Z",
     "iopub.status.idle": "2021-05-23T08:59:22.019804Z",
     "shell.execute_reply": "2021-05-23T08:59:22.019136Z"
    },
    "papermill": {
     "duration": 0.214999,
     "end_time": "2021-05-23T08:59:22.019953",
     "exception": false,
     "start_time": "2021-05-23T08:59:21.804954",
     "status": "completed"
    },
    "tags": []
   },
   "outputs": [
    {
     "data": {
      "image/png": "[encoded data removed]",
      "text/plain": [
       "<Figure size 720x432 with 1 Axes>"
      ]
     },
     "metadata": {
      "needs_background": "light"
     },
     "output_type": "display_data"
    }
   ],
   "source": [
    "algo = ['RF','DT','LR','NB','SGD','KNN','SVM']\n",
    "score = [srf,sdt,slr,snb,ssgd,sknn,ssvm]\n",
    "c = ['Red','Blue','Green', 'Brown', 'Black', 'Purple', 'Olive']\n",
    "plt.figure(figsize=(10,6))\n",
    "plt.bar(algo,score,width=0.5, color=c)\n",
    "plt.title('Evaluating Precision')\n",
    "plt.ylabel('Precision score')\n",
    "plt.ylim(0,1)\n",
    "plt.show()"
   ]
  },
  {
   "cell_type": "code",
   "execution_count": 45,
   "id": "devoted-matrix",
   "metadata": {
    "execution": {
     "iopub.execute_input": "2021-05-23T08:59:22.334705Z",
     "iopub.status.busy": "2021-05-23T08:59:22.334097Z",
     "iopub.status.idle": "2021-05-23T08:59:22.434286Z",
     "shell.execute_reply": "2021-05-23T08:59:22.433606Z"
    },
    "papermill": {
     "duration": 0.217725,
     "end_time": "2021-05-23T08:59:22.434431",
     "exception": false,
     "start_time": "2021-05-23T08:59:22.216706",
     "status": "completed"
    },
    "tags": []
   },
   "outputs": [
    {
     "data": {
      "image/png": "[encoded data removed]",
      "text/plain": [
       "<Figure size 720x432 with 1 Axes>"
      ]
     },
     "metadata": {
      "needs_background": "light"
     },
     "output_type": "display_data"
    }
   ],
   "source": [
    "algo = ['RF','DT','LR','NB','SGD','KNN','SVM']\n",
    "score = [s_rf,s_dt,s_lr,s_nb,s_sgd,s_knn,s_svm]\n",
    "c = ['Red','Blue','Green', 'Brown', 'Black', 'Purple', 'Olive']\n",
    "plt.figure(figsize=(10,6))\n",
    "plt.bar(algo,score,width=0.5, color=c)\n",
    "plt.title('Evaluating Recall score')\n",
    "plt.ylabel('Recall score')\n",
    "plt.ylim(0,1)\n",
    "plt.show()"
   ]
  },
  {
   "cell_type": "markdown",
   "id": "introductory-worse",
   "metadata": {
    "papermill": {
     "duration": 0.066066,
     "end_time": "2021-05-23T08:59:22.570025",
     "exception": false,
     "start_time": "2021-05-23T08:59:22.503959",
     "status": "completed"
    },
    "tags": []
   },
   "source": [
    "# Plotting the performance"
   ]
  },
  {
   "cell_type": "code",
   "execution_count": 46,
   "id": "interesting-closure",
   "metadata": {
    "execution": {
     "iopub.execute_input": "2021-05-23T08:59:23.108102Z",
     "iopub.status.busy": "2021-05-23T08:59:23.107432Z",
     "iopub.status.idle": "2021-05-23T08:59:23.109678Z",
     "shell.execute_reply": "2021-05-23T08:59:23.110201Z"
    },
    "papermill": {
     "duration": 0.074911,
     "end_time": "2021-05-23T08:59:23.110431",
     "exception": false,
     "start_time": "2021-05-23T08:59:23.035520",
     "status": "completed"
    },
    "tags": []
   },
   "outputs": [],
   "source": [
    "from sklearn.metrics import roc_curve, auc"
   ]
  },
  {
   "cell_type": "code",
   "execution_count": 47,
   "id": "blind-diagram",
   "metadata": {
    "execution": {
     "iopub.execute_input": "2021-05-23T08:59:23.254952Z",
     "iopub.status.busy": "2021-05-23T08:59:23.254269Z",
     "iopub.status.idle": "2021-05-23T08:59:23.266179Z",
     "shell.execute_reply": "2021-05-23T08:59:23.264440Z"
    },
    "papermill": {
     "duration": 0.088841,
     "end_time": "2021-05-23T08:59:23.266337",
     "exception": false,
     "start_time": "2021-05-23T08:59:23.177496",
     "status": "completed"
    },
    "tags": []
   },
   "outputs": [
    {
     "name": "stdout",
     "output_type": "stream",
     "text": [
      "AUC for Random Forest Model :  0.9393382352941176\n",
      "AUC for Decision Tree Model: 0.9163602941176471\n",
      "AUC for Logistic Regression Model : 0.8841911764705883\n",
      "AUC for Naive Bayes Model : 0.8759191176470588\n",
      "AUC for Stochastic Gradient Descent Model : 0.8235294117647058\n",
      "AUC for K-Nearest Neighbours Model : 0.9237132352941176\n",
      "AUC for Support Vector Machine Model : 0.8363970588235294\n"
     ]
    }
   ],
   "source": [
    "fp1, tp1, thresholds1 = roc_curve(y_test, y_pred_rf[:])\n",
    "roc_auc_model1 = auc(fp1, tp1)\n",
    "fp2, tp2, thresholds2 = roc_curve(y_test, y_pred_dt[:])\n",
    "roc_auc_model2 = auc(fp2, tp2)\n",
    "fp3, tp3, thresholds3 = roc_curve(y_test, y_pred_lr[:])\n",
    "roc_auc_model3 = auc(fp3, tp3)\n",
    "fp4, tp4, thresholds4 = roc_curve(y_test, y_pred_nb[:])\n",
    "roc_auc_model4 = auc(fp4, tp4)\n",
    "fp5, tp5, thresholds5 = roc_curve(y_test, y_pred_sgd[:])\n",
    "roc_auc_model5 = auc(fp5, tp5)\n",
    "fp6, tp6, thresholds6 = roc_curve(y_test, y_pred_knn[:])\n",
    "roc_auc_model6 = auc(fp6, tp6)\n",
    "fp7, tp7, thresholds7 = roc_curve(y_test, y_pred_svm[:])\n",
    "roc_auc_model7 = auc(fp7, tp7)\n",
    "\n",
    "print(\"AUC for Random Forest Model : \",roc_auc_model1)\n",
    "print(\"AUC for Decision Tree Model:\", roc_auc_model2)\n",
    "print(\"AUC for Logistic Regression Model :\" ,roc_auc_model3)\n",
    "print(\"AUC for Naive Bayes Model :\" ,roc_auc_model4)\n",
    "print(\"AUC for Stochastic Gradient Descent Model :\" ,roc_auc_model5)\n",
    "print(\"AUC for K-Nearest Neighbours Model :\" ,roc_auc_model6)\n",
    "print(\"AUC for Support Vector Machine Model :\" ,roc_auc_model7)"
   ]
  },
  {
   "cell_type": "code",
   "execution_count": 48,
   "id": "signed-closing",
   "metadata": {
    "execution": {
     "iopub.execute_input": "2021-05-23T08:59:23.435014Z",
     "iopub.status.busy": "2021-05-23T08:59:23.409935Z",
     "iopub.status.idle": "2021-05-23T08:59:23.646767Z",
     "shell.execute_reply": "2021-05-23T08:59:23.646149Z"
    },
    "papermill": {
     "duration": 0.312526,
     "end_time": "2021-05-23T08:59:23.646935",
     "exception": false,
     "start_time": "2021-05-23T08:59:23.334409",
     "status": "completed"
    },
    "tags": []
   },
   "outputs": [
    {
     "data": {
      "image/png": "[encoded data removed]",
      "text/plain": [
       "<Figure size 720x432 with 1 Axes>"
      ]
     },
     "metadata": {
      "needs_background": "light"
     },
     "output_type": "display_data"
    }
   ],
   "source": [
    "plt.figure(figsize=(10,6))\n",
    "plt.clf()\n",
    "plt.plot(fp1, tp1, label='Random Forest Model (area = %0.2f)' % roc_auc_model1)\n",
    "plt.plot(fp2, tp2, label='Decision Tree Model (area = %0.2f)' % roc_auc_model2)\n",
    "plt.plot(fp3, tp3, label='Logistic Regression Model (area = %0.2f)' %roc_auc_model3)\n",
    "plt.plot(fp4, tp4, label='Naive Bayes Model (area = %0.2f)' %roc_auc_model4)\n",
    "plt.plot(fp5, tp5, label='Stochastic Gradient Descent Model (area = %0.2f)' %roc_auc_model5)\n",
    "plt.plot(fp6, tp6, label='K-Nearest Neighbours Model (area = %0.2f)' %roc_auc_model6)\n",
    "plt.plot(fp7, tp7, label='Support Vector Machine Model (area = %0.2f)' %roc_auc_model7)\n",
    "plt.plot([0, 1], [0, 1], 'k--')\n",
    "plt.xlim([0.0, 1.0])\n",
    "plt.ylim([0.0, 1.0])\n",
    "plt.xlabel('False Positive Rate')\n",
    "plt.ylabel('True Positive Rate')\n",
    "plt.title('Performance Plot')\n",
    "plt.legend(loc=\"lower right\")\n",
    "plt.show()"
   ]
  },
  {
   "cell_type": "code",
   "execution_count": null,
   "id": "9c718510",
   "metadata": {},
   "outputs": [],
   "source": []
  },
  {
   "cell_type": "code",
   "execution_count": null,
   "id": "71dd0a47",
   "metadata": {},
   "outputs": [],
   "source": []
  }
 ],
 "metadata": {
  "kernelspec": {
   "display_name": "Python 3 (ipykernel)",
   "language": "python",
   "name": "python3"
  },
  "language_info": {
   "codemirror_mode": {
    "name": "ipython",
    "version": 3
   },
   "file_extension": ".py",
   "mimetype": "text/x-python",
   "name": "python",
   "nbconvert_exporter": "python",
   "pygments_lexer": "ipython3",
   "version": "3.9.12"
  },
  "papermill": {
   "default_parameters": {},
   "duration": 20.86372,
   "end_time": "2021-05-23T08:59:24.842673",
   "environment_variables": {},
   "exception": null,
   "input_path": "__notebook__.ipynb",
   "output_path": "__notebook__.ipynb",
   "parameters": {},
   "start_time": "2021-05-23T08:59:03.978953",
   "version": "2.3.2"
  }
 },
 "nbformat": 4,
 "nbformat_minor": 5
}
